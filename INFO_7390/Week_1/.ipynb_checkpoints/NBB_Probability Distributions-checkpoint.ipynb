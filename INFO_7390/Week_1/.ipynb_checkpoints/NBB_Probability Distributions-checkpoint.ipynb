{
 "cells": [
  {
   "cell_type": "markdown",
   "metadata": {},
   "source": [
    "# Probability Distributions"
   ]
  },
  {
   "cell_type": "markdown",
   "metadata": {
    "collapsed": true
   },
   "source": [
    "\n",
    "\n"
   ]
  },
  {
   "cell_type": "markdown",
   "metadata": {
    "collapsed": true
   },
   "source": [
    "## Topics\n",
    "\n",
    "* Probability\n",
    "* Random variables\n",
    "* Probability distributions\n",
    "    * Uniform\n",
    "    * Normal\n",
    "    * Binomial\n",
    "    * Poisson     \n",
    "    * Fat Tailed\n",
    "    \n",
    "## Probability\n",
    "\n",
    "* Probability is a measure of the likelihood of a random phenomenon or chance behavior.  Probability describes the long-term proportion with which a certain outcome will occur in situations with short-term uncertainty. \n",
    "* Probability is expressed in numbers between 0 and 1.  Probability = 0 means the event never happens; probability = 1 means it always happens.\n",
    "* The total probability of all possible event always sums to 1. \n",
    "\n",
    "## Sample Space\n",
    "\n",
    "* Coin Toss ={head,tail} \n",
    "* Two coins S = {HH, HT, TH, TT}\n",
    "* Inspecting a part ={good,bad}\n",
    "* Rolling a die S ={1,2,3,4,5,6}\n",
    "\n",
    "## Random Variables\n",
    "\n",
    "In probability and statistics, a random variable,  or stochastic variable is a variable whose value is subject to variations due to chance (i.e. it can take on a range of values)\n",
    "\n",
    "\n",
    "* Coin Toss ={head,tail} \n",
    "* Rolling a die S ={1,2,3,4,5,6}\n",
    "\n",
    "Discrete Random Variables\n",
    "\n",
    "* Random variables (RVs) which may take on only a countable number of distinct values\n",
    "E.g. the total number of tails X you get if you flip 100 coins\n",
    "* X is a RV with arity k if it can take on exactly one value out of {x1, …, xk}\n",
    "E.g. the possible values that X can take on are 0, 1, 2, …, 100\n",
    "\n",
    "Continuous Random Variables\n",
    "\n",
    "* Probability density function (pdf) instead of probability mass function (pmf)\n",
    "* A pdf is any function f(x) that describes the probability density in terms of the input variable x.\n",
    "\n",
    "\n",
    "## Probability distributions\n",
    "\n",
    "* We use probability distributions because they model data in real world.\n",
    "* They allow us to calculate what to expect and therefore understand what is unusual.\n",
    "* They also provide insight in to the process in which real world data may have been generated.\n",
    "* Many machine learning algorithms have assumptions based on certain probability distributions.\n",
    "\n",
    "_Cumulative distribution function_\n",
    "\n",
    "A probability distribution Pr on the real line is determined by the probability of a scalar random variable X being in a half-open interval (-$\\infty$, x], the probability distribution is completely characterized by its cumulative distribution function:\n",
    "\n",
    "$$\n",
    " F(x) = \\Pr[X \\leq x] \\quad \\forall \\quad x \\in R .\n",
    "$$\n",
    "\n",
    "\n",
    "## Uniform Distribution\n",
    "\n",
    "$$\n",
    "X \\equiv U[a,b]\n",
    "$$\n",
    "\n",
    "$$\n",
    " f(x) = \\frac{1}{b-a} \\quad for \\quad a \\lt x \\lt b\n",
    "$$\n",
    "\n",
    "$$\n",
    " f(x) = 0 \\quad for \\quad a \\leq x  \\quad or  \\quad \\geq b\n",
    "$$\n",
    "\n",
    "$$\n",
    " F(x) = \\frac{x-a}{b-a} \\quad for \\quad a \\leq x \\lt b\n",
    "$$\n",
    "\n",
    "$$\n",
    "F(x) = 0 \\quad for \\quad x  \\lt a  \\quad \n",
    " F(x) = 1 \\quad for \\quad x  \\geq b\n",
    "$$\n",
    "\n",
    "![image Uniform Distribution\"](http://54.198.163.24/YouTube/MachineLearning/M01/Uniform_Distribution_A.png)\n",
    "\n",
    "_Continuous Uniform Distribution_\n",
    "\n",
    "In probability theory and statistics, the continuous uniform distribution or rectangular distribution is a family of symmetric probability distributions such that for each member of the family, all intervals of the same length on the distribution's support are equally probable.\n",
    "\n",
    "- from [Uniform distribution (continuous  Wikipedia)](https://en.wikipedia.org/wiki/Uniform_distribution_(continuous))\n",
    "    \n",
    "\n",
    "![image continuous  Uniform Distribution\"](https://upload.wikimedia.org/wikipedia/commons/thumb/9/96/Uniform_Distribution_PDF_SVG.svg/375px-Uniform_Distribution_PDF_SVG.svg.png)\n",
    "![image continuous  Uniform Distribution\"](https://upload.wikimedia.org/wikipedia/commons/thumb/6/63/Uniform_cdf.svg/375px-Uniform_cdf.svg.png)\n",
    "\n",
    "_Discrete Uniform Distribution_\n",
    "\n",
    "In probability theory and statistics, the discrete uniform distribution is a symmetric probability distribution whereby a finite number of values are equally likely to be observed; every one of n values has equal probability 1/n. Another way of saying \"discrete uniform distribution\" would be \"a known, finite number of outcomes equally likely to happen\".\n",
    "\n",
    "- from [Uniform distribution (discrete)  Wikipedia)](https://en.wikipedia.org/wiki/Uniform_distribution_(discrete))\n",
    "    \n",
    "\n",
    "![image Uniform distribution (discrete) \"](https://upload.wikimedia.org/wikipedia/commons/thumb/1/1f/Uniform_discrete_pmf_svg.svg/488px-Uniform_discrete_pmf_svg.svg.png)\n",
    "![imageUniform distribution (discrete) \"](https://upload.wikimedia.org/wikipedia/commons/thumb/7/77/Dis_Uniform_distribution_CDF.svg/488px-Dis_Uniform_distribution_CDF.svg.png)\n",
    "\n"
   ]
  },
  {
   "cell_type": "markdown",
   "metadata": {},
   "source": [
    "## Uniform Distribution in python"
   ]
  },
  {
   "cell_type": "code",
   "execution_count": 2,
   "metadata": {
    "collapsed": true
   },
   "outputs": [],
   "source": [
    "%matplotlib inline \n",
    "# %matplotlib inline is a magic function in IPython that displays images in the notebook\n",
    "# Line magics are prefixed with the % character and work much like OS command-line calls\n",
    "import matplotlib.pyplot as plt\n",
    "import numpy as np\n",
    "import pandas as pd\n",
    "from scipy import stats\n",
    "import seaborn as sns\n",
    "import warnings\n",
    "warnings.filterwarnings('ignore')\n",
    "\n",
    "# Make plots larger\n",
    "plt.rcParams['figure.figsize'] = (10, 6)"
   ]
  },
  {
   "cell_type": "code",
   "execution_count": 10,
   "metadata": {},
   "outputs": [
    {
     "data": {
      "image/png": "[encoded data removed]",
      "text/plain": [
       "<matplotlib.figure.Figure at 0x112dfa6d8>"
      ]
     },
     "metadata": {},
     "output_type": "display_data"
    }
   ],
   "source": [
    "#------------------------------------------------------------\n",
    "# Define the distribution parameters to be plotted\n",
    "W_values = [1.0, 3.0, 5.0]\n",
    "linestyles = ['-', '--', ':']\n",
    "mu = 0\n",
    "x = np.linspace(-4, 4, 1000)\n",
    "\n",
    "#------------------------------------------------------------\n",
    "# plot the distributions\n",
    "fig, ax = plt.subplots(figsize=(10, 5))\n",
    "\n",
    "for W, ls in zip(W_values, linestyles):\n",
    "    left = mu - 0.5 * W\n",
    "    dist = stats.uniform(left, W)\n",
    "\n",
    "    plt.plot(x, dist.pdf(x), ls=ls, c='black',\n",
    "             label=r'$\\mu=%i,\\ W=%i$' % (mu, W))\n",
    "\n",
    "plt.xlim(-4, 4)\n",
    "plt.ylim(0, 1.2)\n",
    "\n",
    "plt.xlabel('$x$')\n",
    "plt.ylabel(r'$p(x|\\mu, W)$')\n",
    "plt.title('Uniform Distribution')\n",
    "\n",
    "plt.legend()\n",
    "plt.show()\n",
    "\n",
    "# Adapted from http://www.astroml.org/book_figures/chapter3/fig_uniform_distribution.html\n"
   ]
  },
  {
   "cell_type": "markdown",
   "metadata": {
    "collapsed": true
   },
   "source": [
    "## Quiz Distribution of two dice\n",
    "\n",
    "See if you can generate a distribution that models the output that would be generated by the sum of two dice.  Self-test homework."
   ]
  },
  {
   "cell_type": "markdown",
   "metadata": {},
   "source": [
    "## Normal Distribution\n",
    "\n",
    "In probability theory, the normal (or Gaussian) distribution is a very common continuous probability distribution. The normal distribution is remarkably useful because of the central limit theorem. In its most general form, under mild conditions, it states that averages of random variables independently drawn from independent distributions are normally distributed. Physical quantities that are expected to be the sum of many independent processes (such as measurement errors) often have distributions that are nearly normal. \n",
    "\n",
    "- from [Normal Distribution - Wikipedia)](https://en.wikipedia.org/wiki/Normal_distribution)\n",
    "   \n",
    "\n",
    "$$\n",
    "X \\sim \\quad N(\\mu, \\sigma^2)\n",
    "$$\n",
    "\n",
    "\n",
    "$$\n",
    " f(x) = \\frac{1}{\\sigma \\sqrt {2\\pi }} e^{-\\frac{( x - \\mu)^2}{2\\sigma^2}} \\quad \n",
    "$$\n",
    "\n",
    "\n",
    "![image Normal Distribution\"](http://54.198.163.24/YouTube/MachineLearning/M01/Normal_Distribution_A.png)\n",
    "\n",
    "\n",
    "![image Normal Distribution  \"](https://upload.wikimedia.org/wikipedia/commons/thumb/7/74/Normal_Distribution_PDF.svg/525px-Normal_Distribution_PDF.svg.png)\n",
    "\n",
    "Normal cumulative distribution function\n",
    "![image Normal cumulative distribution function \"](https://upload.wikimedia.org/wikipedia/commons/thumb/c/ca/Normal_Distribution_CDF.svg/525px-Normal_Distribution_CDF.svg.png)\n",
    "\n",
    "\n",
    "_Properties of normal distribution_\n",
    "\n",
    "- symmetrical, unimodal, and bell-shaped\n",
    "- on average, the error component will equal zero, the error above and below the mean will cancel out\n",
    "- Z-Score is a statistical measurement is (above/below) the mean of the data\n",
    "- important characteristics about z scores:\n",
    "  1. mean of z scores is 0\n",
    "  2. standard deviation of a standardized variable is always 1\n",
    "  3. the linear transformation does not change the _form_ of the distribution\n",
    "\n",
    "\n",
    "The normal (or Gaussian) distribution was discovered in 1733 by Abraham de Moivre as an approximation to the binomial distribution when the number of trails is large.    \n",
    "\n",
    "![image Abraham de Moivre \"](https://upload.wikimedia.org/wikipedia/commons/thumb/1/1b/Abraham_de_moivre.jpg/300px-Abraham_de_moivre.jpg)\n",
    "\n",
    "- from [Abraham de Moivre - Wikipedia)](https://en.wikipedia.org/wiki/Abraham_de_Moivre)\n",
    "\n",
    "The Gaussian distribution was derived in 1809 by Carl Friedrich Gauss.    \n",
    "\n",
    "![image Carl Friedrich Gauss \"](https://upload.wikimedia.org/wikipedia/commons/thumb/9/9b/Carl_Friedrich_Gauss.jpg/330px-Carl_Friedrich_Gauss.jpg)\n",
    "\n",
    "- from [Carl Friedrich Gauss - Wikipedia)](https://en.wikipedia.org/wiki/Carl_Friedrich_Gauss)\n",
    "\n",
    "Importance lies in the Central Limit Theorem, which states that the sum of a large number of independent random variables (binomial, Poisson, etc.) will approximate a normal distribution\n",
    "\n",
    "\n",
    "## Central Limit Theorem\n",
    "\n",
    "In probability theory, the central limit theorem (CLT) states that, given certain conditions, the arithmetic mean of a sufficiently large number of iterates of independent random variables, each with a well-defined expected value and well-defined variance, will be approximately normally distributed, regardless of the underlying distribution. The central limit theorem has a number of variants. In its common form, the random variables must be identically distributed. \n",
    "\n",
    "- from [Central Limit Theorem - Wikipedia)](https://en.wikipedia.org/wiki/Central_limit_theorem)\n",
    "   \n",
    "\n",
    "The Central Limit Theorem tells us that when the sample size is large the average $\\bar{Y}$ of a random sample follows a normal distribution centered at the population average $\\mu_Y$ and with standard deviation equal to the population standard deviation $\\sigma_Y$, divided by the square root of the sample size $N$. \n",
    "\n",
    "This means that if we subtract a constant from a random variable, the mean of the new random variable shifts by that constant. If $X$ is a random variable with mean $\\mu$ and $a$ is a constant, the mean of $X - a$ is $\\mu-a$. \n",
    "\n",
    "This property also holds for the spread, if $X$ is a random variable with mean $\\mu$ and SD $\\sigma$, and $a$ is a constant, then the mean and SD of $aX$ are $a \\mu$ and $\\|a\\| \\sigma$ respectively.\n",
    "This implies that if we take many samples of size $N$ then the quantity \n",
    "\n",
    "$$\n",
    "\\frac{\\bar{Y} - \\mu}{\\sigma_Y/\\sqrt{N}}\n",
    "$$\n",
    "\n",
    "is approximated with a normal distribution centered at 0 and with standard deviation 1.\n",
    "\n",
    "## The t-distribution\n",
    "\n",
    "In probability and statistics, Student's t-distribution (or simply the t-distribution) is any member of a family of continuous probability distributions that arises when estimating the mean of a normally distributed population in situations where the sample size is small and population standard deviation is unknown. Whereas a normal distribution describes a full population, t-distributions describe samples drawn from a full population; accordingly, the t-distribution for each sample size is different, and the larger the sample, the more the distribution resembles a normal distribution.\n",
    "The t-distribution plays a role in a number of widely used statistical analyses, including the Student's t-test for assessing the statistical significance of the difference between two sample means, the construction of confidence intervals for the difference between two population means, and in linear regression analysis. The Student's t-distribution also arises in the Bayesian analysis of data from a normal family.\n",
    "\n",
    "- from [The t-distribution - Wikipedia)](https://en.wikipedia.org/wiki/Student%27s_t-distribution)\n",
    "\n",
    "When the CLT does not apply (i.e. as the number of samples is large), there is another option that does not rely on large samples When a the original population from which a random variable, say $Y$, is sampled is normally distributed with mean 0 then we can calculate the distribution of \n",
    "\n",
    "\n",
    "number of variants. In its common form, the random variables must be identically distributed. \n",
    "\n",
    "\n",
    "\n",
    "$$\n",
    "\\sqrt{N} \\frac{\\bar{Y}}{s_Y}\n",
    "$$\n",
    "\n",
    "\n",
    "![image Student's t-distribution \"](https://upload.wikimedia.org/wikipedia/commons/thumb/4/41/Student_t_pdf.svg/488px-Student_t_pdf.svg.png)\n",
    "\n",
    "Normal cumulative distribution function\n",
    "![image Normal cumulative Student's t-distribution \"](https://upload.wikimedia.org/wikipedia/commons/thumb/e/e7/Student_t_cdf.svg/488px-Student_t_cdf.svg.png)\n",
    "\n"
   ]
  },
  {
   "cell_type": "markdown",
   "metadata": {
    "collapsed": true
   },
   "source": [
    "## Normal Distribution in python"
   ]
  },
  {
   "cell_type": "code",
   "execution_count": 11,
   "metadata": {},
   "outputs": [
    {
     "data": {
      "image/png": "[encoded data removed]",
      "text/plain": [
       "<matplotlib.figure.Figure at 0x112df00b8>"
      ]
     },
     "metadata": {},
     "output_type": "display_data"
    }
   ],
   "source": [
    "# Plot two normal distributions\n",
    "domain = np.arange(-22, 22, 0.1)\n",
    "values = stats.norm(3.3, 5.5).pdf(domain)\n",
    "plt.plot(domain, values, color='r', linewidth=2)\n",
    "plt.fill_between(domain, 0, values, color='#ffb6c1', alpha=0.3)\n",
    "values = stats.norm(4.4, 2.3).pdf(domain)\n",
    "plt.plot(domain, values, color='b', linewidth=2)\n",
    "plt.ylabel(\"Probability\")\n",
    "plt.title(\"Two Normal Distributions\")\n",
    "plt.show()"
   ]
  },
  {
   "cell_type": "markdown",
   "metadata": {
    "collapsed": true
   },
   "source": [
    "## Binomial Distribution\n",
    "\n",
    "\n",
    "$$\n",
    "X \\quad \\sim \\quad B(n, p)\n",
    "$$\n",
    "\n",
    "\n",
    "$$\n",
    " P(X=k) = \\binom{n}{k} p^k (1-p)^{n-k} \\quad k=1,2,...,n\n",
    "$$\n",
    "\n",
    "$$\n",
    "    \\binom{n}{k} = \\frac{n!}{k!(n-k)!}\n",
    "$$\n",
    "\n",
    "_Binomial Distribution_\n",
    "\n",
    "In probability theory and statistics, the binomial distribution with parameters n and p is the discrete probability distribution of the number of successes in a sequence of n independent yes/no experiments, each of which yields success with probability p. A success/failure experiment is also called a Bernoulli experiment or Bernoulli trial; when n = 1, the binomial distribution is a Bernoulli distribution.\n",
    "\n",
    "- from [Binomial Distribution - Wikipedia](https://en.wikipedia.org/wiki/Binomial_distribution)\n",
    "\n",
    "\n",
    "   \n",
    "Binomial Distribution    \n",
    "![image Binomial Distribution  \"](https://upload.wikimedia.org/wikipedia/commons/thumb/7/75/Binomial_distribution_pmf.svg/450px-Binomial_distribution_pmf.svg.png)\n",
    "\n",
    "Binomial cumulative distribution function\n",
    "![image Binomial cumulative distribution function \"](https://upload.wikimedia.org/wikipedia/commons/thumb/5/55/Binomial_distribution_cdf.svg/450px-Binomial_distribution_cdf.svg.png)\n",
    "\n",
    "\n",
    "* The data arise from a sequence of n independent trials.\n",
    "* At each trial there are only two possible outcomes, conventionally called success and failure.\n",
    "* The probability of success, p, is the same in each trial.\n",
    "* The random variable of interest is the number of successes, X, in the n trials.\n",
    "* The assumptions of independence and constant p are important. If they are invalid,  so is the binomial distribution\n",
    "\n",
    "_Bernoulli Random Variables_\n",
    "\n",
    "* Imagine a simple trial with only two possible outcomes\n",
    "    * Success (S) with probabilty p.\n",
    "    * Failure (F) with probabilty 1-p.\n",
    "\n",
    "* Examples\n",
    "    * Toss of a coin (heads or tails)\n",
    "    * Gender of a newborn (male or female)\n",
    "\n"
   ]
  },
  {
   "cell_type": "markdown",
   "metadata": {
    "collapsed": true
   },
   "source": [
    "## Binomial Distribution in python"
   ]
  },
  {
   "cell_type": "code",
   "execution_count": 26,
   "metadata": {},
   "outputs": [
    {
     "name": "stderr",
     "output_type": "stream",
     "text": [
      "/Users/bear/anaconda/lib/python3.6/site-packages/matplotlib/cbook.py:2649: UserWarning: Saw kwargs ['ls', 'linestyle'] which are all aliases for 'linestyle'.  Kept value from 'linestyle'\n",
      "  seen=seen, canon=canonical, used=seen[-1]))\n"
     ]
    },
    {
     "data": {
      "image/png": "[encoded data removed]",
      "text/plain": [
       "<matplotlib.figure.Figure at 0x113ff6c50>"
      ]
     },
     "metadata": {},
     "output_type": "display_data"
    }
   ],
   "source": [
    "#------------------------------------------------------------\n",
    "# Define the distribution parameters to be plotted\n",
    "n_values = [20, 20, 40]\n",
    "b_values = [0.2, 0.6, 0.6]\n",
    "linestyles = ['-', '--', ':']\n",
    "x = np.arange(-1, 200)\n",
    "\n",
    "#------------------------------------------------------------\n",
    "# plot the distributions\n",
    "\n",
    "for (n, b, ls) in zip(n_values, b_values, linestyles):\n",
    "    # create a binomial distribution\n",
    "    dist = stats.binom(n, b)\n",
    "\n",
    "    plt.plot(x, dist.pmf(x), ls=ls, c='black',\n",
    "             label=r'$b=%.1f,\\ n=%i$' % (b, n), linestyle='steps-mid')\n",
    "\n",
    "plt.xlim(-0.5, 35)\n",
    "plt.ylim(0, 0.25)\n",
    "\n",
    "plt.xlabel('$x$')\n",
    "plt.ylabel(r'$p(x|b, n)$')\n",
    "plt.title('Binomial Distribution')\n",
    "\n",
    "plt.legend()\n",
    "plt.show()\n",
    "\n",
    "# Adapted from http://www.astroml.org/book_figures/chapter3/fig_binomial_distribution.html"
   ]
  },
  {
   "cell_type": "code",
   "execution_count": 17,
   "metadata": {},
   "outputs": [
    {
     "data": {
      "text/plain": [
       "array([[<matplotlib.axes._subplots.AxesSubplot object at 0x112fe2cf8>]], dtype=object)"
      ]
     },
     "execution_count": 17,
     "metadata": {},
     "output_type": "execute_result"
    },
    {
     "data": {
      "image/png": "[encoded data removed]",
      "text/plain": [
       "<matplotlib.figure.Figure at 0x112f568d0>"
      ]
     },
     "metadata": {},
     "output_type": "display_data"
    }
   ],
   "source": [
    "fair_coin_flips = stats.binom.rvs(n=33,        # Number of flips per trial\n",
    "                                  p=0.4,       # Success probability\n",
    "                                  size=1000)  # Number of trials\n",
    "pd.DataFrame(fair_coin_flips).hist(range=(-0.5,10.5), bins=11)"
   ]
  },
  {
   "cell_type": "code",
   "execution_count": 19,
   "metadata": {},
   "outputs": [
    {
     "data": {
      "text/plain": [
       "<matplotlib.collections.PolyCollection at 0x1138bfcc0>"
      ]
     },
     "execution_count": 19,
     "metadata": {},
     "output_type": "execute_result"
    },
    {
     "data": {
      "image/png": "[encoded data removed]",
      "text/plain": [
       "<matplotlib.figure.Figure at 0x113795390>"
      ]
     },
     "metadata": {},
     "output_type": "display_data"
    }
   ],
   "source": [
    "plt.fill_between(x=np.arange(-4,-1,0.01), \n",
    "                 y1= stats.norm.pdf(np.arange(-4,-1,0.01)) ,\n",
    "                 facecolor='red',\n",
    "                 alpha=0.35)\n",
    "\n",
    "plt.fill_between(x=np.arange(1,4,0.01), \n",
    "                 y1= stats.norm.pdf(np.arange(1,4,0.01)) ,\n",
    "                 facecolor='red',\n",
    "                 alpha=0.35)\n",
    "\n",
    "plt.fill_between(x=np.arange(-1,1,0.01), \n",
    "                 y1= stats.norm.pdf(np.arange(-1,1,0.01)) ,\n",
    "                 facecolor='blue',\n",
    "                 alpha=0.35)"
   ]
  },
  {
   "cell_type": "markdown",
   "metadata": {},
   "source": [
    "## Poisson Distribution\n",
    "\n",
    "$X$ expresses the number of \"rare\" events\n",
    "\n",
    "$$\n",
    "X \\quad \\sim P( \\lambda )\\quad \\lambda \\gt 0\n",
    "$$\n",
    "\n",
    "$$\n",
    "    P(X = x) = \\frac{ \\mathrm{e}^{- \\lambda } \\lambda^x }{x!}  \\quad x=1,2,...,n\n",
    "$$\n",
    "\n",
    "\n",
    "_Poisson Distribution_\n",
    "\n",
    "In probability theory and statistics, the Poisson distribution, named after French mathematician Siméon Denis Poisson, is a discrete probability distribution that expresses the probability of a given number of events occurring in a fixed interval of time and/or space if these events occur with a constant rate per time unit and independently of the time since the last event. The Poisson distribution can also be used for the number of events in other specified intervals such as distance, area or volume.\n",
    "\n",
    "For instance, an individual keeping track of the amount of mail they receive each day may notice that they receive an average number of 4 letters per day. If receiving any particular piece of mail doesn't affect the arrival times of future pieces of mail, i.e., if pieces of mail from a wide range of sources arrive independently of one another, then a reasonable assumption is that the number of pieces of mail received per day obeys a Poisson distribution. Other examples that may follow a Poisson: the number of phone calls received by a call center per hour, the number of decay events per second from a radioactive source, or the number of taxis passing a particular street corner per hour.\n",
    "\n",
    "The Poisson distribution gives us a probability mass for discrete natural numbers *k* given some mean value &lambda;. Knowing that, on average, &lambda; discrete events occur over some time period, the Poisson distribution gives us the probability of seeing exactly *k* events in that time period.\n",
    "\n",
    "For example, if a call center gets, on average, 100 customers per day, the Poisson distribution can tell us the probability of getting exactly 150 customers today.\n",
    "\n",
    "*k* &isin; **N** (i.e. is a natural number) because, on any particular day, you can't have a fraction of a phone call. The probability of any non-integer number of people calling in is zero. E.g., P(150.5) = 0.\n",
    "\n",
    "&lambda; &isin; **R** (i.e. is a real number) because, even though any *particular* day must have an integer number of people, the *mean* number of people taken over many days can be fractional (and usually is). It's why the \"average\" number of phone calls per day could be 3.5 even though half a phone call won't occur.\n",
    "\n",
    "\n",
    "- from [Poisson Distribution - Wikipedia)](https://en.wikipedia.org/wiki/Poisson_distribution)\n",
    "   \n",
    "Poisson Distribution    \n",
    "![image Poisson Distribution  \"](https://upload.wikimedia.org/wikipedia/commons/thumb/1/16/Poisson_pmf.svg/488px-Poisson_pmf.svg.png)\n",
    "\n",
    "Poisson cumulative distribution function\n",
    "![image Poisson cumulative distribution function \"](https://upload.wikimedia.org/wikipedia/commons/thumb/7/7c/Poisson_cdf.svg/488px-Poisson_cdf.svg.png)\n",
    "\n",
    "\n",
    "_Properties of Poisson distribution_\n",
    "\n",
    "* The mean number of successes from n trials is µ = np\n",
    "* If we substitute µ/n for p, and let n tend to infinity, the binomial distribution becomes the Poisson distribution.\n",
    "* Poisson distributions are often used to describe the number of occurrences of a ‘rare’ event. For example\n",
    "    * The number of storms in a season\n",
    "    * The number of occasions in a season when river levels exceed a certain value\n",
    "* The main assumptions are that events occur \n",
    "    * at random (the occurrence of an event doesn’t change the probability of  it happening again) \n",
    "    *  at a constant rate \n",
    "* Poisson distributions also arise as approximations  to  binomials when n is large and p is small.\n",
    "* When there is a large number of trials, but a very small probability of success, binomial calculation becomes impractical\n",
    "\n"
   ]
  },
  {
   "cell_type": "markdown",
   "metadata": {},
   "source": [
    "## Poisson Distribution in python"
   ]
  },
  {
   "cell_type": "code",
   "execution_count": 21,
   "metadata": {},
   "outputs": [
    {
     "data": {
      "text/plain": [
       "array([[<matplotlib.axes._subplots.AxesSubplot object at 0x113914e80>]], dtype=object)"
      ]
     },
     "execution_count": 21,
     "metadata": {},
     "output_type": "execute_result"
    },
    {
     "data": {
      "image/png": "[encoded data removed]",
      "text/plain": [
       "<matplotlib.figure.Figure at 0x1137882b0>"
      ]
     },
     "metadata": {},
     "output_type": "display_data"
    }
   ],
   "source": [
    "# Generate poisson counts\n",
    "arrival_rate_1 = stats.poisson.rvs(size=10000,  # Generate Poisson data\n",
    "                                   mu=1 )       # Average arrival time 1\n",
    "\n",
    "\n",
    "# Plot histogram\n",
    "pd.DataFrame(arrival_rate_1).hist(range=(-0.5,max(arrival_rate_1)+0.5)\n",
    "                                    , bins=max(arrival_rate_1)+1)"
   ]
  },
  {
   "cell_type": "code",
   "execution_count": 22,
   "metadata": {},
   "outputs": [
    {
     "data": {
      "text/plain": [
       "array([[<matplotlib.axes._subplots.AxesSubplot object at 0x113a768d0>]], dtype=object)"
      ]
     },
     "execution_count": 22,
     "metadata": {},
     "output_type": "execute_result"
    },
    {
     "data": {
      "image/png": "[encoded data removed]",
      "text/plain": [
       "<matplotlib.figure.Figure at 0x113a702e8>"
      ]
     },
     "metadata": {},
     "output_type": "display_data"
    }
   ],
   "source": [
    "arrival_rate_10 = stats.poisson.rvs(size=10000,  # Generate Poisson data\n",
    "                                   mu=10 )       # Average arrival time 10\n",
    "\n",
    "# Plot histogram\n",
    "pd.DataFrame(arrival_rate_10).hist(range=(-0.5,max(arrival_rate_10)+0.5)\n",
    "                                    , bins=max(arrival_rate_10)+1)"
   ]
  },
  {
   "cell_type": "markdown",
   "metadata": {},
   "source": [
    "## Poisson and Binomial Distributions\n",
    "\n",
    "The binomial distribution is usually shown with a fixed n, with different values of p that will affect the k successes from the fixed n trails. This supposes we know the number of trails beforehand.  We can graph the binomial distribution as a set of curves with a fixed n, and varying probabilities of the probability of success, p, below.\n",
    "\n",
    "\n",
    "\n",
    "## What if we knew the rate but not the probability, p, or the number of trails, n?\n",
    "\n",
    "But what if we were to invert the problem? What if we knew only the number of heads we observed, but not the total number of flips? If we have a known expected number of heads but an unknown number of flips, then we don't really know the true probability for each individual head. Rather we know that, on average, p=mean(k)/n. However if we were to plot these all on the same graph in the vicinity of the same k, we can make them all have a convergent shape around mean(k) because, no matter how much we increase n, we decrease p proportionally so that, for all n, the peak stays at mean(k).\n",
    "\n",
    "## Deriving the Poisson Distribution from the Binomial Distribution\n",
    "\n",
    "Let’s make this a little more formal. The binomial distribution works when we have a fixed number of events n, each with a constant probability of success p. In the Poisson Distribution, we don't know the number of trials that will happen. Instead, we only know the average number of successes per time period, the rate $\\lambda$. So we know the rate of successes per day, or per minute but not the number of trials n or the probability of success p that was used to estimate to that rate. \n",
    "\n",
    "If n is the number of trails in our time period, then np is the success rate or $\\lambda$, that is, $\\lambda$ = np. Solving for p, we get:\n",
    "\n",
    "$$\n",
    "p=\\frac{\\lambda}{n} \\quad(1)\n",
    "$$\n",
    "Since the Binomial distribution is defined as below \n",
    "$$\n",
    " P(X=k) = \\binom{n}{k} p^k (1-p)^{n-k} \\quad k=1,2,...,n\n",
    "\\quad  (2)\n",
    "$$\n",
    "or equivelently\n",
    "$$\n",
    " P(X=k) = \\frac{n!}{k!(n-k)!} p^k (1-p)^{n-k} \\quad k=1,2,...,n\n",
    "\\quad  (3)\n",
    "$$\n",
    "By substituting the above p from (1) into the binomial distribution (3)\n",
    " $$\n",
    " P(X=k) = \\frac{n!}{k!(n-k)!} {\\frac{\\lambda!}{n}}^k (1-{\\frac{\\lambda!}{n} })^{n-k}  \\quad  (4)\n",
    " $$\n",
    "\n",
    "         \n",
    " \n",
    "For n large and p small:\n",
    " \n",
    "$$\n",
    "    P(X = k) \\equiv \\frac{ \\mathrm{e}^{- \\lambda } \\lambda^k }{k!}  \\quad k=1,2,...,n\\quad  (5)\n",
    "$$\n",
    "                                        \n",
    " \n",
    "Which is the probability mass function for the Poisson distribution.\n"
   ]
  },
  {
   "cell_type": "markdown",
   "metadata": {},
   "source": [
    "## Fat-Tailed Distribution\n",
    "\n",
    "\n",
    "In probability theory, the Fat-Tailed (or Gaussian) distribution is a very common continuous probability distribution. The Fat-Tailed distribution is remarkably useful because of the central limit theorem. In its most general form, under mild conditions, it states that averages of random variables independently drawn from independent distributions are Fat-Tailedly distributed. Physical quantities that are expected to be the sum of many independent processes (such as measurement errors) often have distributions that are nearly Fat-Tailed. \n",
    "\n",
    "- from [Fat-Tailed Distribution - Wikipedia)](https://en.wikipedia.org/wiki/Fat-Tailed_distribution)\n",
    "   \n",
    "\n",
    "_Properties of Fat-Tailed distribution_\n",
    "\n",
    "* Power law distributions: \n",
    "    * for variables assuming integer values > 0\n",
    "    * Prob [X=k] ~ Ck-α\n",
    "    * typically 0 < alpha < 2; smaller a gives heavier tail  \n",
    "* For binomial, normal, and Poisson distributions the tail probabilities approach 0 exponentially fast \n",
    "* What kind of phenomena does this distribution model?\n",
    "* What kind of process would generate it?\n",
    "\n"
   ]
  },
  {
   "cell_type": "markdown",
   "metadata": {},
   "source": [
    "## Cauchy Distribution\n",
    "\n",
    "An example of a Fat-tailed distribution is the Cauchy distribution.\n",
    "\n",
    " The Cauchy distribution, named after Augustin Cauchy, is a continuous probability distribution. It is also known, especially among physicists, as the Lorentz distribution (after Hendrik Lorentz), Cauchy–Lorentz distribution, Lorentz(ian) function, or Breit–Wigner distribution. The simplest Cauchy distribution is called the standard Cauchy distribution. It is the distribution of a random variable that is the ratio of two independent standard normal variables and has the probability density function\n",
    "\n",
    "The Cauchy distribution is often used in statistics as the canonical example of a \"pathological\" distribution since both its mean and its variance are undefined. (But see the section Explanation of undefined moments below.) The Cauchy distribution does not have finite moments of order greater than or equal to one; only fractional absolute moments exist.[1] The Cauchy distribution has no moment generating function.\n",
    "\n",
    "- from [Cauchy Distribution - Wikipedia)](https://en.wikipedia.org/wiki/Cauchy_distribution)\n",
    "   \n",
    "Cauchy Distribution    \n",
    "![image Cauchy Distribution  \"](https://upload.wikimedia.org/wikipedia/commons/thumb/8/8c/Cauchy_pdf.svg/450px-Cauchy_pdf.svg.png)\n",
    "\n",
    "Cauchy cumulative distribution function\n",
    "![image Cauchy cumulative distribution function \"](https://upload.wikimedia.org/wikipedia/commons/thumb/5/5b/Cauchy_cdf.svg/450px-Cauchy_cdf.svg.png)\n"
   ]
  },
  {
   "cell_type": "markdown",
   "metadata": {},
   "source": []
  },
  {
   "cell_type": "markdown",
   "metadata": {},
   "source": []
  },
  {
   "cell_type": "markdown",
   "metadata": {},
   "source": [
    "## Cauchy Distribution in python"
   ]
  },
  {
   "cell_type": "code",
   "execution_count": 25,
   "metadata": {},
   "outputs": [
    {
     "data": {
      "image/png": "[encoded data removed]",
      "text/plain": [
       "<matplotlib.figure.Figure at 0x113f31908>"
      ]
     },
     "metadata": {},
     "output_type": "display_data"
    }
   ],
   "source": [
    "# Define the distribution parameters to be plotted\n",
    "gamma_values = [0.5, 1.0, 2.0]\n",
    "linestyles = ['-', '--', ':']\n",
    "mu = 0\n",
    "x = np.linspace(-10, 10, 1000)\n",
    "\n",
    "#------------------------------------------------------------\n",
    "# plot the distributions\n",
    "\n",
    "for gamma, ls in zip(gamma_values, linestyles):\n",
    "    dist = stats.cauchy(mu, gamma)\n",
    "\n",
    "    plt.plot(x, dist.pdf(x), ls=ls, color='black',\n",
    "             label=r'$\\mu=%i,\\ \\gamma=%.1f$' % (mu, gamma))\n",
    "\n",
    "plt.xlim(-4.5, 4.5)\n",
    "plt.ylim(0, 0.65)\n",
    "\n",
    "plt.xlabel('$x$')\n",
    "plt.ylabel(r'$p(x|\\mu,\\gamma)$')\n",
    "plt.title('Cauchy Distribution')\n",
    "\n",
    "plt.legend()\n",
    "plt.show()\n",
    "\n",
    "# From http://www.astroml.org/book_figures/chapter3/fig_cauchy_distribution.html"
   ]
  },
  {
   "cell_type": "code",
   "execution_count": null,
   "metadata": {
    "collapsed": true
   },
   "outputs": [],
   "source": [
    "n=50\n",
    "def random_distributions(n=50):\n",
    "  mu, sigma, p = 5, 2*np.sqrt(2), 0.3# mean, standard deviation, probabilty of success\n",
    "  shape, scale = 2.5, 2. # mean=5, std=2*sqrt(2)\n",
    "  normal_dist = np.random.normal(mu, sigma, n)\n",
    "  lognormal_dist = np.random.lognormal(mu, sigma, n)\n",
    "  lognormal_dist = np.random.lognormal(np.log2(mu), np.log2(sigma), n) \n",
    "  pareto_dist = np.random.pareto(mu, n)\n",
    "  uniform_dist= np.random.uniform(np.amin(normal_dist),np.amax(normal_dist),n)\n",
    "  binomial_dist= np.random.binomial(n, p,n)\n",
    "  gamma_dist= np.random.gamma(shape, scale, n) \n",
    "  poisson_dist= np.random.poisson((n*0.05), n)  \n",
    "  df = pd.DataFrame({'Normal' : normal_dist, 'Lognormal' : lognormal_dist, 'Pareto' : pareto_dist,'Gamma' : gamma_dist, 'Poisson' : poisson_dist, 'Binomial' : binomial_dist, 'Uniform' : uniform_dist})\n",
    "  return df"
   ]
  },
  {
   "cell_type": "code",
   "execution_count": null,
   "metadata": {
    "collapsed": true
   },
   "outputs": [],
   "source": [
    "df=random_distributions(n=50)\n",
    "df.head()"
   ]
  },
  {
   "cell_type": "code",
   "execution_count": null,
   "metadata": {
    "collapsed": true
   },
   "outputs": [],
   "source": [
    "def show_distributions(df):\n",
    "    for col in list(df.columns.values):    \n",
    "      sns.distplot(df[col])\n",
    "      sns.plt.show()\n",
    "show_distributions(df)    "
   ]
  },
  {
   "cell_type": "code",
   "execution_count": null,
   "metadata": {
    "collapsed": true
   },
   "outputs": [],
   "source": [
    "def qqplot_stats(obs, c):\n",
    "    z = (obs-np.mean(obs))/np.std(obs)\n",
    "    stats.probplot(z, dist=\"norm\", plot=plt)\n",
    "    plt.title(\"Normal Q-Q plot for \" + c)\n",
    "    plt.show()"
   ]
  },
  {
   "cell_type": "code",
   "execution_count": null,
   "metadata": {
    "collapsed": true
   },
   "outputs": [],
   "source": [
    "def qqplot_df(df):\n",
    "    for col in list(df.columns.values):\n",
    "      qqplot_stats(df[col], col)\n",
    "qqplot_df(df) "
   ]
  },
  {
   "cell_type": "markdown",
   "metadata": {},
   "source": [
    "## Statistical tests for normality (e.g. Shapiro-Wilk test,  Anderson-Darling test, scipy.stats.normaltest, etc.)"
   ]
  },
  {
   "cell_type": "code",
   "execution_count": null,
   "metadata": {
    "collapsed": true
   },
   "outputs": [],
   "source": [
    "def normality_stats(df):\n",
    "    s={}\n",
    "    for col in list(df.columns.values):\n",
    "      s[col]={}\n",
    "    for col in list(df.columns.values):\n",
    "      s[col].update({'shapiro':stats.shapiro(df[col])})\n",
    "      s[col].update({'anderson':stats.anderson(df[col], dist='norm')})\n",
    "      s[col].update({'normaltest':stats.normaltest(df[col])})      \n",
    "    return s"
   ]
  },
  {
   "cell_type": "markdown",
   "metadata": {},
   "source": [
    "## Shapiro-Wilk test\n",
    "scipy.stats.shapiro [https://docs.scipy.org/doc/scipy/reference/generated/scipy.stats.shapiro.html](https://docs.scipy.org/doc/scipy/reference/generated/scipy.stats.shapiro.html)\n",
    "\n",
    "scipy.stats.shapiro\n",
    "scipy.stats.shapiro(x, a=None, reta=False)[source]\n",
    "Perform the Shapiro-Wilk test for normality.\n",
    "\n",
    "The Shapiro-Wilk test tests the null hypothesis that the data was drawn from a normal distribution.\n",
    "\n",
    "Parameters:\t\n",
    "x : array_like\n",
    "Array of sample data.\n",
    "a : array_like, optional\n",
    "Array of internal parameters used in the calculation. If these are not given, they will be computed internally. If x has length n, then a must have length n/2.\n",
    "reta : bool, optional\n",
    "Whether or not to return the internally computed a values. The default is False.\n",
    "Returns:\t\n",
    "W : float\n",
    "The test statistic.\n",
    "p-value : float\n",
    "The p-value for the hypothesis test.\n",
    "a : array_like, optional\n",
    "If reta is True, then these are the internally computed “a” values that may be passed into this function on future calls.\n",
    "\n",
    "### Anderson-Darling test\n",
    "\n",
    "scipy.stats.anderson [https://docs.scipy.org/doc/scipy/reference/generated/scipy.stats.anderson.html](https://docs.scipy.org/doc/scipy/reference/generated/scipy.stats.anderson.html)\n",
    "\n",
    "scipy.stats.anderson(x, dist='norm')\n",
    "Anderson-Darling test for data coming from a particular distribution\n",
    "\n",
    "The Anderson-Darling test is a modification of the Kolmogorov- Smirnov test kstest for the null hypothesis that a sample is drawn from a population that follows a particular distribution. For the Anderson-Darling test, the critical values depend on which distribution is being tested against. This function works for normal, exponential, logistic, or Gumbel (Extreme Value Type I) distributions.\n",
    "\n",
    "Parameters:\t\n",
    "x : array_like\n",
    "array of sample data\n",
    "dist : {‘norm’,’expon’,’logistic’,’gumbel’,’gumbel_l’, gumbel_r’,\n",
    "‘extreme1’}, optional the type of distribution to test against. The default is ‘norm’ and ‘extreme1’, ‘gumbel_l’ and ‘gumbel’ are synonyms.\n",
    "Returns:\t\n",
    "statistic : float\n",
    "The Anderson-Darling test statistic\n",
    "critical_values : list\n",
    "The critical values for this distribution\n",
    "significance_level : list\n",
    "The significance levels for the corresponding critical values in percents. The function returns critical values for a differing set of significance levels depending on the distribution that is being tested against.\n",
    "\n",
    "Note: The critical values are for a given significance level. When we want a smaller significance level, then we have to increase the critical values, assuming we are in the right, upper tail of the distribution.\n",
    " \n",
    "### scipy.stats.normaltest\n",
    "\n",
    "scipy.stats.normaltest [https://docs.scipy.org/doc/scipy-0.14.0/reference/generated/scipy.stats.normaltest.html](https://docs.scipy.org/doc/scipy-0.14.0/reference/generated/scipy.stats.normaltest.html)\n",
    "scipy.stats.normaltest(a, axis=0)\n",
    "Tests whether a sample differs from a normal distribution.\n",
    "\n",
    "This function tests the null hypothesis that a sample comes from a normal distribution. It is based on D’Agostino and Pearson’s [R251], [R252] test that combines skew and kurtosis to produce an omnibus test of normality.\n",
    "\n",
    "Parameters:\t\n",
    "a : array_like\n",
    "The array containing the data to be tested.\n",
    "axis : int or None\n",
    "If None, the array is treated as a single data set, regardless of its shape. Otherwise, each 1-d array along axis axis is tested.\n",
    "Returns:\t\n",
    "k2 : float or array\n",
    "s^2 + k^2, where s is the z-score returned by skewtest and k is the z-score returned by kurtosistest.\n",
    "p-value : float or array\n",
    "A 2-sided chi squared probability for the hypothesis test."
   ]
  },
  {
   "cell_type": "code",
   "execution_count": null,
   "metadata": {
    "collapsed": true
   },
   "outputs": [],
   "source": [
    "norm_stats=normality_stats(df)\n",
    "print norm_stats"
   ]
  },
  {
   "cell_type": "code",
   "execution_count": null,
   "metadata": {
    "collapsed": true
   },
   "outputs": [],
   "source": [
    "df=random_distributions(n=500)\n",
    "df.head()"
   ]
  },
  {
   "cell_type": "code",
   "execution_count": null,
   "metadata": {
    "collapsed": true
   },
   "outputs": [],
   "source": [
    "show_distributions(df)\n",
    "qqplot_df(df)"
   ]
  },
  {
   "cell_type": "code",
   "execution_count": null,
   "metadata": {
    "collapsed": true
   },
   "outputs": [],
   "source": [
    "norm_stats=normality_stats(df)\n",
    "print norm_stats"
   ]
  },
  {
   "cell_type": "code",
   "execution_count": null,
   "metadata": {
    "collapsed": true
   },
   "outputs": [],
   "source": [
    "df=random_distributions(n=5000)\n",
    "df.head()"
   ]
  },
  {
   "cell_type": "code",
   "execution_count": null,
   "metadata": {
    "collapsed": true
   },
   "outputs": [],
   "source": [
    "show_distributions(df)\n",
    "qqplot_df(df)"
   ]
  },
  {
   "cell_type": "code",
   "execution_count": null,
   "metadata": {
    "collapsed": true
   },
   "outputs": [],
   "source": [
    "norm_stats=normality_stats(df)\n",
    "print norm_stats"
   ]
  },
  {
   "cell_type": "markdown",
   "metadata": {},
   "source": [
    "Last update September 5, 2017"
   ]
  }
 ],
 "metadata": {
  "kernelspec": {
   "display_name": "Python 3",
   "language": "python",
   "name": "python3"
  },
  "language_info": {
   "codemirror_mode": {
    "name": "ipython",
    "version": 3
   },
   "file_extension": ".py",
   "mimetype": "text/x-python",
   "name": "python",
   "nbconvert_exporter": "python",
   "pygments_lexer": "ipython3",
   "version": "3.6.1"
  }
 },
 "nbformat": 4,
 "nbformat_minor": 2
}
